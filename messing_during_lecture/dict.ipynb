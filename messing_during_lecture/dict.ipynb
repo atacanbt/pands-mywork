{
 "cells": [
  {
   "cell_type": "markdown",
   "metadata": {},
   "source": [
    "# Dictionary (dict) \n",
    "\n",
    "***\n",
    "\n",
    "#### Defined by: x = {} \n",
    "\n",
    " x = {\"variable1\":\"value1\", \"variable2\":123, \"variable3\":[], \"variable4\":{}}\n",
    "\n",
    "#### Add/Access values with square brackets:\n",
    "\n",
    "x[\"variable1\"] = \"newValue\"\n",
    "\n",
    "#### Can have any variable type as a value\n",
    "\n",
    "#### 'get' function can be used to check whether the dict has a value\n",
    "\n",
    "#### 'update' function can be used to add ket values via {}"
   ]
  },
  {
   "cell_type": "code",
   "execution_count": 3,
   "metadata": {},
   "outputs": [
    {
     "name": "stdout",
     "output_type": "stream",
     "text": [
      "{'make': 'ford', 'model': 'mondeo', 'year': 2006, 'owner': 'atacan'}\n",
      "2006\n"
     ]
    }
   ],
   "source": [
    "make = \"ford\"\n",
    "model = \"mondeo\"\n",
    "year = 2006\n",
    "owner = \"atacan\"\n",
    "# instead\n",
    "car = {\n",
    "    \"make\" : \"ford\",\n",
    "    \"model\" : \"mondeo\",\n",
    "    \"year\" : 2006,\n",
    "    \"owner\" : \"atacan\"\n",
    "    \"owner-driver-number\" : 12345\n",
    "}\n",
    "print(car)\n",
    "\n",
    "print(car[\"year\"])"
   ]
  },
  {
   "cell_type": "markdown",
   "metadata": {},
   "source": [
    "- it would be better to store 'owner' related information together"
   ]
  },
  {
   "cell_type": "code",
   "execution_count": 14,
   "metadata": {},
   "outputs": [
    {
     "name": "stdout",
     "output_type": "stream",
     "text": [
      "2006\n",
      "atacan\n",
      "12345\n"
     ]
    }
   ],
   "source": [
    "car = {\n",
    "    \"make\" : \"ford\",\n",
    "    \"model\" : \"mondeo\",\n",
    "    \"year\" : 2006,\n",
    "    \"owner\" : {\n",
    "        \"name\" : \"atacan\",\n",
    "        \"driver-number\" : 12345\n",
    "    }\n",
    "}\n",
    "print (car[\"year\"])\n",
    "print (car[\"owner\"][\"name\"])\n",
    "# .get command can be used to check whether \"driver-number\" is exist \n",
    "print (car[\"owner\"].get(\"driver-number\"))"
   ]
  },
  {
   "cell_type": "markdown",
   "metadata": {},
   "source": [
    "## Looping Dictionaries\n",
    "\n",
    "***\n",
    "\n"
   ]
  },
  {
   "cell_type": "code",
   "execution_count": null,
   "metadata": {},
   "outputs": [],
   "source": [
    "#  By Keys\n",
    "\n",
    "for x in thisdict:\n",
    "        print(thisdict[x])"
   ]
  },
  {
   "cell_type": "code",
   "execution_count": null,
   "metadata": {},
   "outputs": [],
   "source": [
    "# By keys and values\n",
    "\n",
    "for x, y in thisdict.items():\n",
    "        print(x, y)"
   ]
  },
  {
   "cell_type": "code",
   "execution_count": 20,
   "metadata": {},
   "outputs": [
    {
     "name": "stdout",
     "output_type": "stream",
     "text": [
      "make has value Fiat\n",
      "model has value Punto\n",
      "price has value 10000\n",
      "tags has value ['pre-owned', 'Best Buy', 'Dealer']\n",
      "make has a value Fiat\n",
      "model has a value Punto\n",
      "price has a value 10000\n",
      "tags has a value ['pre-owned', 'Best Buy', 'Dealer']\n"
     ]
    }
   ],
   "source": [
    "car = {\n",
    "    \"make\" : \"Fiat\",\n",
    "    \"model\" : \"Punto\",\n",
    "    \"price\" : 10000,\n",
    "    \"tags\" : [\"pre-owned\", \"Best Buy\", \"Dealer\"]\n",
    "}\n",
    "\n",
    "# print (car)\n",
    "\n",
    "for key in car:\n",
    "    print (key, 'has value', car[key])\n",
    "\n",
    "for key, value in car.items():\n",
    "    print (key, 'has a value', value)"
   ]
  },
  {
   "cell_type": "code",
   "execution_count": null,
   "metadata": {},
   "outputs": [],
   "source": []
  }
 ],
 "metadata": {
  "kernelspec": {
   "display_name": "Python 3",
   "language": "python",
   "name": "python3"
  },
  "language_info": {
   "codemirror_mode": {
    "name": "ipython",
    "version": 3
   },
   "file_extension": ".py",
   "mimetype": "text/x-python",
   "name": "python",
   "nbconvert_exporter": "python",
   "pygments_lexer": "ipython3",
   "version": "3.9.6"
  }
 },
 "nbformat": 4,
 "nbformat_minor": 2
}
